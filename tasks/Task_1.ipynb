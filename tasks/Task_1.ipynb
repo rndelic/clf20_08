{
 "cells": [
  {
   "cell_type": "markdown",
   "metadata": {},
   "source": [
    "# Задание 1\n",
    "\n",
    "[Свертка списка](https://ru.wikipedia.org/wiki/%D0%A1%D0%B2%D1%91%D1%80%D1%82%D0%BA%D0%B0_%D1%81%D0%BF%D0%B8%D1%81%D0%BA%D0%B0) -  это обобщенная операция над списком, c помощью которой можно преобразовать список в единое значение. Например, рассмотрим реализации свертки слева и свертки справа (левоассоциативную свертку и правоассоциативную свертку):"
   ]
  },
  {
   "cell_type": "code",
   "execution_count": 1,
   "metadata": {
    "collapsed": true,
    "jupyter": {
     "outputs_hidden": true
    }
   },
   "outputs": [],
   "source": [
    "# it takes the second argument and the first item of the list and applies the function to them, \n",
    "#then feeds the function with this result and the second argument and so on. See scanl for intermediate results. \n",
    "def foldl(f, x0, lst):\n",
    "    if not lst:\n",
    "        return x0\n",
    "    return foldl(f, f(x0, lst[0]), lst[1:])\n",
    "\n",
    "# it takes the second argument and the last item of the list and applies the function,\n",
    "#then it takes the penultimate item from the end and the result, and so on. See scanr for intermediate results. \n",
    "def foldr(f, x0, lst):\n",
    "    if not lst:\n",
    "        return x0\n",
    "    return f(lst[0], foldr(f, x0, lst[1:]))\n",
    "\n",
    ""
   ]
  },
  {
   "cell_type": "code",
   "execution_count": 2,
   "metadata": {},
   "outputs": [
    {
     "output_type": "execute_result",
     "data": {
      "text/plain": "6"
     },
     "metadata": {},
     "execution_count": 2
    }
   ],
   "source": [
    "#сумма\n",
    "def foo(x,y):\n",
    "    return x + y\n",
    "foldr(foo, 0, [1, 2, 3])"
   ]
  },
  {
   "cell_type": "code",
   "execution_count": 118,
   "metadata": {},
   "outputs": [
    {
     "name": "stdout",
     "output_type": "stream",
     "text": [
      "123\n",
      "123\n"
     ]
    }
   ],
   "source": [
    "#конкатенация\n",
    "print(foldl(lambda x, y: '{}{}'.format(x, y), '', [1, 2, 3]))\n",
    "print(foldr(lambda x, y: '{}{}'.format(x, y), '', [1, 2, 3]))"
   ]
  },
  {
   "cell_type": "markdown",
   "metadata": {},
   "source": [
    "Задача: реализовать foldl через foldr и наоборот. Вместо многоточий нужно вставить выражения, которые бы привели к нужному результату. Модифицировать сам список нельзя. "
   ]
  },
  {
   "cell_type": "markdown",
   "metadata": {},
   "source": [
    "### Решение"
   ]
  },
  {
   "cell_type": "code",
   "execution_count": 123,
   "metadata": {
    "collapsed": true,
    "jupyter": {
     "outputs_hidden": true
    }
   },
   "outputs": [],
   "source": [
    "def foldl2(f, x0, lst):\n",
    "     return foldr(lambda x, g: lambda y: g(f(y, x)), lambda x: x, lst)(x0)\n",
    "\n",
    "def foldr2(f, x0, lst):\n",
    "    return foldl(lambda g, x: lambda y: g(f(x, y)), lambda x: x, lst)(x0)"
   ]
  },
  {
   "cell_type": "code",
   "execution_count": 124,
   "metadata": {
    "collapsed": true,
    "jupyter": {
     "outputs_hidden": true
    }
   },
   "outputs": [
    {
     "name": "stdout",
     "output_type": "stream",
     "text": [
      "Division:\n",
      "FoldL result: 0.16666666666666666\n",
      "FoldL2 result: 0.16666666666666666\n",
      "FoldR result: 1.5\n",
      "FoldR2 result: 1.5\n",
      "Concatenation:\n",
      "FoldL result: 123\n",
      "FoldL2 result: 123\n",
      "FoldR result: 123\n",
      "FoldR2 result: 123\n",
      "Addition: \n",
      "FoldL result: 6\n",
      "FoldL2 result: 6\n",
      "FoldR result: 6\n",
      "FoldR2 result: 6\n"
     ]
    }
   ],
   "source": [
    "print('Division:')\n",
    "f = lambda x, y: x / y\n",
    "\n",
    "print('FoldL result:', foldl(f, 1, [1,2,3]))\n",
    "print('FoldL2 result:', foldl2(f, 1, [1,2,3]))\n",
    "print('FoldR result:', foldr(f, 1, [1,2,3]))\n",
    "print('FoldR2 result:', foldr2(f, 1, [1,2,3]))\n",
    "\n",
    "print('Concatenation:')\n",
    "g = lambda x, y: '{}{}'.format(x, y)\n",
    "\n",
    "print('FoldL result:', foldl(g, '', [1,2,3]))\n",
    "print('FoldL2 result:', foldl2(g, '', [1,2,3]))\n",
    "print('FoldR result:', foldr(g, '', [1,2,3]))\n",
    "print('FoldR2 result:', foldr2(g, '', [1,2,3]))\n",
    "\n",
    "print('Addition: ')\n",
    "h = lambda x, y: x + y\n",
    "\n",
    "print('FoldL result:', foldl(h, 0, [1,2,3]))\n",
    "print('FoldL2 result:', foldl2(h, 0, [1,2,3]))\n",
    "print('FoldR result:', foldr(h, 0, [1,2,3]))\n",
    "print('FoldR2 result:', foldr2(h, 0, [1,2,3]))"
   ]
  },
  {
   "cell_type": "markdown",
   "metadata": {},
   "source": [
    "# Задание 2\n",
    "\n",
    "нужно написать функцию, которая принимает две строки и проверяет, входит ли хотя бы одна перестановка второй строки в первую. Например:\n",
    "\n",
    "> a = 'abcrotm'\n",
    "> \n",
    "> b = 'tro'\n",
    "\n",
    "функция def check_inv(a, b) вернет True, так как 'rot' содержится в 'abcrotm'. Нужно подумать как можно более оптимальный алгоритм и оценить его сложность. "
   ]
  },
  {
   "cell_type": "markdown",
   "metadata": {},
   "source": [
    "### Решение"
   ]
  },
  {
   "cell_type": "code",
   "execution_count": null,
   "metadata": {
    "collapsed": true,
    "jupyter": {
     "outputs_hidden": true
    }
   },
   "outputs": [],
   "source": [
    "from itertools import permutations\n",
    "#O(|b|! * (1 + |a|))\n",
    "def check_inv_slow(a, b):\n",
    "    for x in list(map(lambda x: ''.join(x), list(permutations(b)))):\n",
    "        if x in a: \n",
    "            return True\n",
    "\n",
    "    \n",
    "#O(|a|*|b|^2)\n",
    "def check_inv_faster(a, b):\n",
    "    assert len(a) >= len(b)\n",
    "\n",
    "    for i in range(len(a)): \n",
    "        y = list(b) #O(|b|)\n",
    "        \n",
    "        if len(a[i:]) < len(b): #O(1)\n",
    "                return False \n",
    "        \n",
    "        for j in range(len(b)): #|b|*|b| times\n",
    "            if a[j + i] not in y: #O(|y|)\n",
    "                if y == []: #O(|y|)\n",
    "                    return True\n",
    "                else:\n",
    "                    break\n",
    "            elif a[j + i] in y: #O(|y|)\n",
    "                y.remove(a[j + i]) #O(|y|)\n",
    "                if not y:\n",
    "                    return True\n",
    "    if y:\n",
    "        return False\n",
    "    else:\n",
    "        return True"
   ]
  },
  {
   "cell_type": "code",
   "execution_count": 307,
   "metadata": {},
   "outputs": [
    {
     "name": "stdout",
     "output_type": "stream",
     "text": [
      "1.49 ms ± 92.6 µs per loop (mean ± std. dev. of 7 runs, 1000 loops each)\n",
      "18.3 µs ± 409 ns per loop (mean ± std. dev. of 7 runs, 100000 loops each)\n"
     ]
    }
   ],
   "source": [
    "%timeit check_inv_slow('abracadabrabbaababaabr', 'baaabbb')\n",
    "%timeit check_inv_faster('abracadabrabbaababaabr', 'baaabbb')"
   ]
  },
  {
   "cell_type": "code",
   "execution_count": 309,
   "metadata": {},
   "outputs": [
    {
     "name": "stdout",
     "output_type": "stream",
     "text": [
      "1 True\n",
      "2 True\n",
      "3 True\n",
      "4 True\n",
      "5 True\n",
      "6 True\n",
      "7 True\n",
      "8 True\n",
      "9 True\n"
     ]
    }
   ],
   "source": [
    "print(1, check_inv_faster('abracadabrabbaababaabr', 'baaabbb') == True) \n",
    "print(2, check_inv_faster('aaabbbb', 'aaaabbb') == False)\n",
    "print(3, check_inv_faster('abcrotm', 'tro') == True)\n",
    "print(4, check_inv_faster('abcrotm', 'mtorcba') == True)\n",
    "print(5, check_inv_faster('abcrotm', 'mtrocbf') == False)\n",
    "print(6, check_inv_faster('abcrotm', 'm') == True)\n",
    "print(7, check_inv_faster('abbaababaabr', 'baaabbb') == True)\n",
    "print(8, check_inv_faster('abababb', 'aabbb') == True)\n",
    "print(9, check_inv_faster('abaccccb', 'aabb') == False)"
   ]
  },
  {
   "cell_type": "markdown",
   "metadata": {},
   "source": [
    "# Задание 3\n",
    "\n",
    "Реализовать бинарное дерево (класс Tree), в нём методы __repr__, __str__, __iter__ (итерация только по листьям)."
   ]
  },
  {
   "cell_type": "code",
   "execution_count": 412,
   "metadata": {},
   "outputs": [],
   "source": [
    "class Tree:\n",
    "    def __init__(self, value=None, left=None, right=None):\n",
    "        self.left = left\n",
    "        self.right = right\n",
    "        self.value = value\n",
    "    \n",
    "    def iter_left(self):\n",
    "        if self.left is not None:\n",
    "            yield from self.left\n",
    "        else: \n",
    "            yield self\n",
    "    \n",
    "    def iter_right(self):\n",
    "        if self.right is not None:\n",
    "            yield from self.right\n",
    "        else:\n",
    "            yield self\n",
    "    \n",
    "    def __iter__(self, direction='both'):\n",
    "        if self.left is not None and self.right is not None:\n",
    "            yield from self.left\n",
    "            yield from self.right\n",
    "        elif self.left is None and self.right is not None:\n",
    "            yield from self.right\n",
    "        elif self.left is not None and self.right is None:\n",
    "            yield from self.left\n",
    "        elif self.left is None and self.right is None:\n",
    "            yield self                \n",
    "    \n",
    "    def __str__(self):\n",
    "        return f'Leaf ({self.value})'\n",
    "    \n",
    "    def __repr__(self):\n",
    "        return f'Leaf ({self.value})'"
   ]
  },
  {
   "cell_type": "code",
   "execution_count": null,
   "metadata": {},
   "outputs": [],
   "source": []
  },
  {
   "cell_type": "code",
   "execution_count": 414,
   "metadata": {},
   "outputs": [
    {
     "name": "stdout",
     "output_type": "stream",
     "text": [
      "Tree\n",
      "3\n",
      "4\n",
      "2\n",
      "Crippled tree\n",
      "3\n",
      "5\n",
      "Leaf (3)\n",
      "Leaf (5)\n"
     ]
    }
   ],
   "source": [
    "tree = Tree(0, Tree(1, Tree(3), Tree(4)),                             \n",
    "               Tree(2))\n",
    "print('Tree')\n",
    "for vert in tree:\n",
    "    print(vert.value)\n",
    "\n",
    "crippled_tree = Tree(1, None, Tree(6, Tree(3), Tree(5)))\n",
    "print('Crippled tree')\n",
    "for vert in crippled_tree:\n",
    "    print(vert.value)\n",
    "for leaf in crippled_tree.iter_right():\n",
    "    print(leaf)"
   ]
  },
  {
   "cell_type": "code",
   "execution_count": null,
   "metadata": {},
   "outputs": [],
   "source": []
  },
  {
   "cell_type": "code",
   "execution_count": null,
   "metadata": {},
   "outputs": [],
   "source": []
  },
  {
   "cell_type": "code",
   "execution_count": null,
   "metadata": {},
   "outputs": [],
   "source": []
  },
  {
   "cell_type": "code",
   "execution_count": null,
   "metadata": {},
   "outputs": [],
   "source": []
  },
  {
   "cell_type": "code",
   "execution_count": null,
   "metadata": {},
   "outputs": [],
   "source": []
  },
  {
   "cell_type": "code",
   "execution_count": null,
   "metadata": {},
   "outputs": [],
   "source": []
  },
  {
   "cell_type": "code",
   "execution_count": null,
   "metadata": {},
   "outputs": [],
   "source": []
  },
  {
   "cell_type": "code",
   "execution_count": null,
   "metadata": {},
   "outputs": [],
   "source": []
  },
  {
   "cell_type": "code",
   "execution_count": null,
   "metadata": {},
   "outputs": [],
   "source": []
  },
  {
   "cell_type": "code",
   "execution_count": null,
   "metadata": {},
   "outputs": [],
   "source": []
  },
  {
   "cell_type": "code",
   "execution_count": null,
   "metadata": {},
   "outputs": [],
   "source": []
  },
  {
   "cell_type": "code",
   "execution_count": null,
   "metadata": {},
   "outputs": [],
   "source": []
  },
  {
   "cell_type": "code",
   "execution_count": null,
   "metadata": {},
   "outputs": [],
   "source": []
  },
  {
   "cell_type": "code",
   "execution_count": 180,
   "metadata": {},
   "outputs": [],
   "source": [
    "from collections import deque"
   ]
  },
  {
   "cell_type": "code",
   "execution_count": null,
   "metadata": {},
   "outputs": [],
   "source": [
    "#Приоритет:\n",
    "# 1 -- ()\n",
    "# 2 -- * /\n",
    "# 3 -- +, -\n",
    "\n",
    "def calc(expr):\n",
    "    queue = deque()\n",
    "    \n",
    "\n",
    "calc('2 * (15 - 3 * 4) - 2') == 4"
   ]
  }
 ],
 "metadata": {
  "kernelspec": {
   "display_name": "Python 3",
   "language": "python",
   "name": "python3"
  },
  "language_info": {
   "codemirror_mode": {
    "name": "ipython",
    "version": 3
   },
   "file_extension": ".py",
   "mimetype": "text/x-python",
   "name": "python",
   "nbconvert_exporter": "python",
   "pygments_lexer": "ipython3",
   "version": "3.5.3-final"
  }
 },
 "nbformat": 4,
 "nbformat_minor": 4
}