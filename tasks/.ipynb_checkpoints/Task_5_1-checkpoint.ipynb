{
 "cells": [
  {
   "cell_type": "markdown",
   "metadata": {},
   "source": [
    "## Часть 1\n",
    "Напишите скрипт, который скачивает все данные с выборов губернатора СПб 2019г для всех избирательных участков. \n",
    "\n",
    "Входная точка [по ссылке](http://notelections.online/region/region/st-petersburg?action=show&root=1&tvd=27820001217417&vrn=27820001217413&region=78&global=&sub_region=78&prver=0&pronetvd=null&vibid=27820001217417&type=222). Затем нужно перейти на сайты территориальных избирательных комиссий. Результаты нужно сохранить в  `cvs`-файл, `sqlite` базе данных или `parquet`-файле. В итоге должна получиться таблица с полями:\n",
    "- название ТИК (территориальная избирательная комиссия, некоторое объединение избирательных участков на определенной территории)\n",
    "- номер УИК (избирательный участок)\n",
    "- 14 стандартных полей из итогового протокола\n",
    "\n",
    "Скрипт должен быть в отдельном `*.py` файле или в отдельном `jupyter`-ноутбуке. "
   ]
  },
  {
   "cell_type": "markdown",
   "metadata": {},
   "source": [
    "### Часть 2\n",
    "Используя скаченные данные и `Pandas` (или `PySpark`) посчитайте:\n",
    "- явку (%) по всем ТИК, результат отсортировать по убыванию\n",
    "- выберите произвольного кандидата и найдите тот избиратльный участок, на котором он получил наибольший результат  (%, учитывать участки на которых проголосовало больше 100 человек)\n",
    "- найдите ТИК, где разница между УИК с наибольшей явкой и наименьшей максимальна\n",
    "- посчитайте дисперсию по явке для каждого ТИК (учитывать УИК)\n",
    "- для каждого кандидата посчитайте таблицу: результат (%, округленный до целого) - количество УИК, на которых кандидат получил данный результат\n",
    "- визуализируйте отношение - явка на УИК $\\rightarrow$ результат кандидата. "
   ]
  },
  {
   "cell_type": "code",
   "execution_count": 131,
   "metadata": {},
   "outputs": [],
   "source": [
    "import requests\n",
    "from bs4 import BeautifulSoup\n",
    "import re\n",
    "import pandas as pd\n",
    "import numpy as np"
   ]
  },
  {
   "cell_type": "code",
   "execution_count": 3,
   "metadata": {},
   "outputs": [],
   "source": [
    "r = requests.get('http://notelections.online/region/region/st-petersburg?action=show&root=1&tvd=27820001217417&vrn=27820001217413&region=78&global=&sub_region=78&prver=0&pronetvd=null&vibid=27820001217417&type=222')"
   ]
  },
  {
   "cell_type": "code",
   "execution_count": 4,
   "metadata": {},
   "outputs": [],
   "source": [
    "main = BeautifulSoup(r.text, 'html.parser')\n",
    "tik_links = main.find_all('nobr')[49:80]\n",
    "tiks_content = []\n",
    "\n",
    "for link in tik_links:\n",
    "    tik_request = requests.get('http://notelections.online' + link.a.attrs['href'])\n",
    "    tiks_content.append(BeautifulSoup(tik_request.text, 'html.parser'))"
   ]
  },
  {
   "cell_type": "code",
   "execution_count": 47,
   "metadata": {},
   "outputs": [],
   "source": [
    "tik_uik = []\n",
    "\n",
    "for i, tik in enumerate(tiks_content):\n",
    "    for uik in tik.find_all('table')[2].find_all('td', attrs={'align':'center', 'style':'color:black'})[2:]:\n",
    "        tik_uik.append([f'tik{i}', uik.text])    \n",
    "\n",
    "tik_uik = pd.DataFrame(tik_uik)"
   ]
  },
  {
   "cell_type": "code",
   "execution_count": 323,
   "metadata": {},
   "outputs": [],
   "source": [
    "col_list = []\n",
    "for i, tik in enumerate(tiks_content):\n",
    "    for j, number in enumerate(tik.find_all('table')[2].find_all('td', attrs={'align':'right'})[14:]):\n",
    "        col_list.append([i, number.text[:-2]])\n",
    "\n",
    "col_list.pop()\n",
    "col_list.pop()\n",
    "\n",
    "for val in tiks_content[-1].find_all('table')[2].find_all('td', attrs={'align':'right'})[1:-1]:\n",
    "    col_list.append([30, val.text])"
   ]
  },
  {
   "cell_type": "code",
   "execution_count": 325,
   "metadata": {},
   "outputs": [],
   "source": [
    "uik_list = np.array([])\n",
    "uik_list = np.hstack([uik_list, tik_uik[tik_uik[0] == 'tik1'][1].values])"
   ]
  },
  {
   "cell_type": "code",
   "execution_count": 337,
   "metadata": {},
   "outputs": [],
   "source": [
    "col_list = pd.DataFrame(col_list)\n",
    "uik_list = np.array([])\n",
    "for i in range(31):\n",
    "    for j in range(14):\n",
    "        uik_list = np.hstack([uik_list, tik_uik[tik_uik[0] == f'tik{i}'][1].values])"
   ]
  },
  {
   "cell_type": "code",
   "execution_count": 327,
   "metadata": {},
   "outputs": [],
   "source": [
    "col_list['uik'] = pd.Series(uik_list)"
   ]
  },
  {
   "cell_type": "code",
   "execution_count": 382,
   "metadata": {},
   "outputs": [],
   "source": [
    "#Я устал и решил так отфильтровать ячейки с процентами, простите за щиткод\n",
    "my_boi = []\n",
    "for j in range(31):\n",
    "    for i, uik in enumerate(col_list[col_list[0] == j].uik.unique()):\n",
    "        for value in col_list[col_list['uik'] == uik][1].values:\n",
    "            if len(value) < 10 and value != '':\n",
    "                my_boi.append([uik, value]) \n",
    "            elif len(value) > 10 and value != '':\n",
    "                my_boi.append([uik, value[:-47]])"
   ]
  },
  {
   "cell_type": "code",
   "execution_count": 383,
   "metadata": {},
   "outputs": [],
   "source": [
    "my_boi = pd.DataFrame(my_boi)\n",
    "my_boi['tik'] = col_list[0]"
   ]
  },
  {
   "cell_type": "code",
   "execution_count": 384,
   "metadata": {},
   "outputs": [],
   "source": [
    "data_final = np.zeros(14)\n",
    "for uik in my_boi[0].unique():\n",
    "    data_final = np.vstack([data_final, my_boi[my_boi[0] == uik][1].values])"
   ]
  },
  {
   "cell_type": "code",
   "execution_count": 385,
   "metadata": {},
   "outputs": [],
   "source": [
    "data_final = pd.DataFrame(data_final)\n",
    "data_final.drop(data_final.iloc[0], inplace=True)"
   ]
  },
  {
   "cell_type": "code",
   "execution_count": 407,
   "metadata": {},
   "outputs": [],
   "source": [
    "data_final.replace({'': 0}, inplace=True)"
   ]
  },
  {
   "cell_type": "code",
   "execution_count": 408,
   "metadata": {},
   "outputs": [],
   "source": [
    "data_final.index = range(2021)\n",
    "for col in data_final.columns:\n",
    "    data_final[col] = data_final[col].map(int)"
   ]
  },
  {
   "cell_type": "code",
   "execution_count": null,
   "metadata": {},
   "outputs": [],
   "source": []
  },
  {
   "cell_type": "code",
   "execution_count": 409,
   "metadata": {},
   "outputs": [],
   "source": [
    "data_final = pd.concat([tik_uik, data_final], axis=1)"
   ]
  },
  {
   "cell_type": "code",
   "execution_count": 410,
   "metadata": {},
   "outputs": [],
   "source": [
    "data_final.columns = ['tik', 'uik', 'num_voters_whole', 'num_docs_raw', \n",
    "                      'num_docs_given', 'num_docs_outside', 'num_docs_unused',\n",
    "                      'num_docs_in_mov_boxes', 'num_docs_in_stat_boxes',\n",
    "                      'num_docs_invalid', 'num_docs_valid', 'num_docs_lost',\n",
    "                      'num_docs_unallowed_for', 'Amosov', 'Beglov', 'Tikhonova']"
   ]
  },
  {
   "cell_type": "code",
   "execution_count": 411,
   "metadata": {},
   "outputs": [],
   "source": [
    "last_row = ['tik30', 'digital']\n",
    "for value in col_list[-14:][1].values:\n",
    "    last_row.append(int(value[:-2])) if len(value) < 10 else last_row.append(int(value[:-8]))\n",
    "last_row = pd.DataFrame(last_row).T\n",
    "last_row.columns = data_final.columns"
   ]
  },
  {
   "cell_type": "code",
   "execution_count": 412,
   "metadata": {},
   "outputs": [],
   "source": [
    "data_final = pd.concat([data_final, last_row], axis=0)"
   ]
  },
  {
   "cell_type": "code",
   "execution_count": 413,
   "metadata": {},
   "outputs": [],
   "source": [
    "data_final.index = range(2022)"
   ]
  },
  {
   "cell_type": "code",
   "execution_count": 415,
   "metadata": {},
   "outputs": [],
   "source": [
    "data_final.to_csv('voting_data_clean.csv')"
   ]
  }
 ],
 "metadata": {
  "kernelspec": {
   "display_name": "Python 3",
   "language": "python",
   "name": "python3"
  },
  "language_info": {
   "codemirror_mode": {
    "name": "ipython",
    "version": 3
   },
   "file_extension": ".py",
   "mimetype": "text/x-python",
   "name": "python",
   "nbconvert_exporter": "python",
   "pygments_lexer": "ipython3",
   "version": "3.6.8"
  }
 },
 "nbformat": 4,
 "nbformat_minor": 4
}
